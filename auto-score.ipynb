{
 "cells": [
  {
   "cell_type": "code",
   "execution_count": null,
   "metadata": {},
   "outputs": [],
   "source": [
    "import time\n",
    "import cv2\n",
    "from PIL import Image\n",
    "import pytesseract\n",
    "import numpy as np\n",
    "from PIL import ImageGrab\n",
    "\n",
    "\n",
    "pytesseract.pytesseract.tesseract_cmd = r'C:\\Program Files\\Tesseract-OCR\\tesseract'\n",
    "\n",
    "while True:\n",
    "    img = ImageGrab.grab()\n",
    "    top = (img.height - height) // 2\n",
    "    bottom = top + height\n",
    "    img = img.crop((650, top, 1900, 870))\n",
    "\n",
    "    lower_red = np.array([230, 0, 0]) # lower red\n",
    "    upper_red = np.array([255, 150, 50]) # upper red\n",
    "    lower_yellow = np.array([240, 180, 35]) # lower yellow\n",
    "    upper_yellow = np.array([255, 220, 120]) # upper yellow\n",
    "\n",
    "    red_mask = cv2.inRange(np.array(img), lower_red, upper_red)\n",
    "\n",
    "    yellow_mask = cv2.inRange(np.array(img), lower_yellow, upper_yellow)\n",
    "\n",
    "    a = pytesseract.image_to_string(yellow_mask, lang='pol')\n",
    "    b = pytesseract.image_to_string(red_mask, lang='pol')\n",
    "    a = a[:-1]\n",
    "    b = b[:-1]\n",
    "    #print(a[0:2])\n",
    "\n",
    "    def save(event):\n",
    "        f = open(r\"output.txt\", \"r+\")\n",
    "        lines = f.readlines()\n",
    "        f.seek(0) # move to the beginning of the file\n",
    "        f.truncate()\n",
    "        for line in lines:\n",
    "            elements = line.strip().split('/')\n",
    "        if event == 'win':\n",
    "            elements[0] = str(int(elements[0]) + 1)  # increase first element by 1\n",
    "            f.write('/'.join(elements) + '\\n')  # save to file\n",
    "        elif event == 'lose':\n",
    "            elements[1] = str(int(elements[1]) + 1)  # increase second element by 1\n",
    "            f.write('/'.join(elements) + '\\n')  # save to file\n",
    "    \n",
    "\n",
    "    if a[0:2] == \"ZW\":\n",
    "        print(\"asdasdas\")\n",
    "        save('win')\n",
    "        time.sleep(10)\n",
    "    elif b[0:2] == \"PO\":\n",
    "        print(\"asdasdasyyyyy\")\n",
    "        save('lose')\n",
    "        time.sleep(10)\n",
    "    time.sleep(0.25)\n"
   ]
  }
 ],
 "metadata": {
  "kernelspec": {
   "display_name": "Python 3",
   "language": "python",
   "name": "python3"
  },
  "language_info": {
   "codemirror_mode": {
    "name": "ipython",
    "version": 3
   },
   "file_extension": ".py",
   "mimetype": "text/x-python",
   "name": "python",
   "nbconvert_exporter": "python",
   "pygments_lexer": "ipython3",
   "version": "3.10.10"
  },
  "orig_nbformat": 4
 },
 "nbformat": 4,
 "nbformat_minor": 2
}
