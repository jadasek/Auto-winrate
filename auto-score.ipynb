{
 "cells": [
  {
   "cell_type": "code",
   "execution_count": 1,
   "metadata": {},
   "outputs": [
    {
     "name": "stdout",
     "output_type": "stream",
     "text": [
      "20:40:47\n",
      "PORAŻKA\n",
      "20:41:09\n",
      "ZWYCIESTWO!\n",
      "20:41:20\n",
      "ZWYCJESTWIU!\n"
     ]
    },
    {
     "ename": "KeyboardInterrupt",
     "evalue": "",
     "output_type": "error",
     "traceback": [
      "\u001b[1;31m---------------------------------------------------------------------------\u001b[0m",
      "\u001b[1;31mKeyboardInterrupt\u001b[0m                         Traceback (most recent call last)",
      "Cell \u001b[1;32mIn[1], line 59\u001b[0m\n\u001b[0;32m     57\u001b[0m     save(\u001b[39m'\u001b[39m\u001b[39mlose\u001b[39m\u001b[39m'\u001b[39m)\n\u001b[0;32m     58\u001b[0m     time\u001b[39m.\u001b[39msleep(\u001b[39m10\u001b[39m)\n\u001b[1;32m---> 59\u001b[0m time\u001b[39m.\u001b[39;49msleep(\u001b[39m0.25\u001b[39;49m)\n",
      "\u001b[1;31mKeyboardInterrupt\u001b[0m: "
     ]
    }
   ],
   "source": [
    "import time\n",
    "import cv2\n",
    "from PIL import Image\n",
    "import pytesseract\n",
    "import numpy as np\n",
    "from PIL import ImageGrab\n",
    "import tkinter as tk\n",
    "\n",
    "\n",
    "pytesseract.pytesseract.tesseract_cmd = r'C:\\Program Files\\Tesseract-OCR\\tesseract'\n",
    "while True:\n",
    "    img = ImageGrab.grab()\n",
    "    top = (img.height - 500) // 2\n",
    "    img = img.crop((650, top, 1900, 870))\n",
    "\n",
    "    lower_red = np.array([230, 0, 0]) # lower red\n",
    "    upper_red = np.array([255, 150, 50]) # upper red\n",
    "    lower_yellow = np.array([240, 180, 35]) # lower yellow\n",
    "    upper_yellow = np.array([255, 220, 120]) # upper yellow\n",
    "\n",
    "    red_mask = cv2.inRange(np.array(img), lower_red, upper_red)\n",
    "\n",
    "    yellow_mask = cv2.inRange(np.array(img), lower_yellow, upper_yellow)\n",
    "\n",
    "    a = pytesseract.image_to_string(yellow_mask, lang='pol')\n",
    "    b = pytesseract.image_to_string(red_mask, lang='pol')\n",
    "    a = a[:-1]\n",
    "    b = b[:-1]\n",
    "    #print(a[0:2])\n",
    "\n",
    "    def save(event):\n",
    "        f = open(r\"output.txt\", \"r+\")\n",
    "        lines = f.readlines()\n",
    "        f.seek(0) # move to the beginning of the file\n",
    "        f.truncate()\n",
    "        for line in lines:\n",
    "            elements = line.strip().split('/')\n",
    "        if event == 'win':\n",
    "            elements[0] = str(int(elements[0]) + 1)  # increase first element by 1\n",
    "            f.write('/'.join(elements) + '\\n')  # save to file\n",
    "        elif event == 'lose':\n",
    "            elements[1] = str(int(elements[1]) + 1)  # increase second element by 1\n",
    "            f.write('/'.join(elements) + '\\n')  # save to file\n",
    "    \n",
    "    t = time.localtime()\n",
    "    current_time = time.strftime(\"%H:%M:%S\", t)\n",
    "    porazka = ['P', 'O', 'R', 'A', 'Ż', 'K', 'A']\n",
    "    zwyciestwo = ['Z', 'W', 'Y', 'C', 'I', 'Ę', 'S', 'T','W','O']\n",
    "    if a[0:3] == \"ZWY\" or sum(el in a for el in zwyciestwo) >= 5:\n",
    "        print(current_time)\n",
    "        print(a)\n",
    "        save('win')\n",
    "        time.sleep(10)\n",
    "    elif b[0:3] == \"POR\" or sum(el in b for el in porazka) >= 5:\n",
    "        print(current_time)\n",
    "        print(b)\n",
    "        save('lose')\n",
    "        time.sleep(10)\n",
    "    time.sleep(0.25)\n"
   ]
  }
 ],
 "metadata": {
  "kernelspec": {
   "display_name": "Python 3",
   "language": "python",
   "name": "python3"
  },
  "language_info": {
   "codemirror_mode": {
    "name": "ipython",
    "version": 3
   },
   "file_extension": ".py",
   "mimetype": "text/x-python",
   "name": "python",
   "nbconvert_exporter": "python",
   "pygments_lexer": "ipython3",
   "version": "3.10.10"
  },
  "orig_nbformat": 4
 },
 "nbformat": 4,
 "nbformat_minor": 2
}
